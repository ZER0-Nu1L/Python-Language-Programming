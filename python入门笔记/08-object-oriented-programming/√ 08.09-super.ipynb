{
 "cells": [
  {
   "cell_type": "markdown",
   "metadata": {},
   "source": [
    "# super() 函数"
   ]
  },
  {
   "cell_type": "markdown",
   "metadata": {},
   "source": [
    "    super(CurrentClassName, instance)\n",
    "    \n",
    "返回该类实例对应的父类对象。"
   ]
  },
  {
   "cell_type": "code",
   "execution_count": 3,
   "metadata": {},
   "outputs": [],
   "source": [
    "class Leaf(object):\n",
    "    def __init__(self, color=\"green\"):\n",
    "        self.color = color\n",
    "    def fall(self):\n",
    "        print (\"Splat!\")\n",
    "\n",
    "class MapleLeaf(Leaf):\n",
    "    def change_color(self):\n",
    "        if self.color == \"green\":\n",
    "            self.color = \"red\"\n",
    "    def fall(self):\n",
    "        self.change_color()\n",
    "        super(MapleLeaf, self).fall()"
   ]
  },
  {
   "cell_type": "markdown",
   "metadata": {},
   "source": [
    "这里，我们先改变树叶的颜色，然后再找到这个实例对应的父类，并调用父类的 `fall()` 方法："
   ]
  },
  {
   "cell_type": "code",
   "execution_count": 4,
   "metadata": {},
   "outputs": [
    {
     "name": "stdout",
     "output_type": "stream",
     "text": [
      "green\n",
      "Splat!\n",
      "red\n"
     ]
    }
   ],
   "source": [
    "mleaf = MapleLeaf()\n",
    "\n",
    "print (mleaf.color)\n",
    "mleaf.fall()\n",
    "print (mleaf.color)"
   ]
  },
  {
   "cell_type": "markdown",
   "metadata": {},
   "source": [
    "回到我们的森林例子，这里我们将森林 `Forest` 作为父类，并定义一个子类 `BurnableForest`："
   ]
  },
  {
   "cell_type": "code",
   "execution_count": 2,
   "metadata": {},
   "outputs": [],
   "source": [
    "import numpy as np\n",
    "\n",
    "class Forest(object):\n",
    "    \"\"\" Forest can grow trees which eventually die.\"\"\"\n",
    "    def __init__(self, size=(150,150), p_sapling=0.0025): \n",
    "        #sapling: 树苗； p_sapling：生成树苗的概率\n",
    "        self.size = size\n",
    "        self.trees = np.zeros(self.size, dtype=bool)\n",
    "        self.p_sapling = p_sapling\n",
    "        \n",
    "    def __repr__(self):\n",
    "        my_repr = \"{}(size={})\".format(self.__class__.__name__, self.size)\n",
    "        return my_repr\n",
    "    \n",
    "    def __str__(self):\n",
    "        return self.__class__.__name__\n",
    "    \n",
    "    @property\n",
    "    def num_cells(self):\n",
    "        \"\"\"Number of cells available for growing trees\"\"\"\n",
    "        return np.prod(self.size)\n",
    "    \n",
    "    @property\n",
    "    def tree_fraction(self):\n",
    "        \"\"\"\n",
    "        Fraction of trees\n",
    "        \"\"\"\n",
    "        num_trees = self.trees.sum()\n",
    "        return float(num_trees) / self.num_cells\n",
    "    \n",
    "    def _rand_bool(self, p):\n",
    "        \"\"\"\n",
    "        Random boolean distributed according to p, less than p will be True\n",
    "        \"\"\"\n",
    "        return np.random.uniform(size=self.trees.shape) < p\n",
    "    \n",
    "    def grow_trees(self):\n",
    "        \"\"\"\n",
    "        Growing trees.\n",
    "        \"\"\"\n",
    "        growth_sites = self._rand_bool(self.p_sapling)\n",
    "        self.trees[growth_sites] = True    # 震惊，终极切片？！\n",
    "        \n",
    "    def advance_one_step(self):\n",
    "        \"\"\"\n",
    "        Advance one step\n",
    "        \"\"\"\n",
    "        self.grow_trees()"
   ]
  },
  {
   "cell_type": "markdown",
   "metadata": {},
   "source": [
    "- 将与燃烧相关的属性都被转移到了子类中去。\n",
    "- 修改两类的构造方法，将闪电概率放到子类的构造方法上，同时在子类的构造方法中，用 `super` 调用父类的构造方法。\n",
    "- 修改 `advance_one_step()`，父类中只进行生长，在子类中用 `super` 调用父类的 `advance_one_step()` 方法，并添加燃烧的部分。"
   ]
  },
  {
   "cell_type": "code",
   "execution_count": 3,
   "metadata": {},
   "outputs": [],
   "source": [
    "class BurnableForest(Forest):\n",
    "    \"\"\"\n",
    "    Burnable forest support fires\n",
    "    \"\"\"    \n",
    "    def __init__(self, p_lightning=5.0e-6, **kwargs):  # 被雷劈的概率\n",
    "        super(BurnableForest, self).__init__(**kwargs)\n",
    "        self.p_lightning = p_lightning        \n",
    "        self.fires = np.zeros((self.size), dtype=bool)\n",
    "    \n",
    "    def advance_one_step(self):\n",
    "        \"\"\"\n",
    "        Advance one step\n",
    "        \"\"\"\n",
    "        super(BurnableForest, self).advance_one_step()\n",
    "        self.start_fires()\n",
    "        self.burn_trees()\n",
    "        \n",
    "    @property\n",
    "    def fire_fraction(self):\n",
    "        \"\"\"\n",
    "        Fraction of fires\n",
    "        \"\"\"\n",
    "        num_fires = self.fires.sum()\n",
    "        return float(num_fires) / self.num_cells\n",
    "    \n",
    "    def start_fires(self):\n",
    "        \"\"\"\n",
    "        Start of fire.\n",
    "        \"\"\"\n",
    "        lightning_strikes = (self._rand_bool(self.p_lightning) & \n",
    "            self.trees)\n",
    "        self.fires[lightning_strikes] = True\n",
    "        \n",
    "    def burn_trees(self):\n",
    "        \"\"\"\n",
    "        Burn trees.\n",
    "        \"\"\"\n",
    "        fires = np.zeros((self.size[0] + 2, self.size[1] + 2), dtype=bool) \n",
    "        # 火在燃烧一次之后会向外扩展一格，考虑东南西北，其规模相当于原来的森林长和宽各+2\n",
    "        # 除了扩展的边缘，其他部分和原来的 fires 是一致的。\n",
    "        fires[1:-1, 1:-1] = self.fires\n",
    "        # 火苗的上下左右都会着火，所以把原来的 fires 分别 上下左右 移动一次。\n",
    "        north = fires[:-2, 1:-1]\n",
    "        south = fires[2:, 1:-1]\n",
    "        east = fires[1:-1, :-2]\n",
    "        west = fires[1:-1, 2:]\n",
    "        new_fires = (north | south | east | west) & self.trees\n",
    "        self.trees[self.fires] = False\n",
    "        self.fires = new_fires"
   ]
  },
  {
   "cell_type": "markdown",
   "metadata": {},
   "source": [
    "测试父类："
   ]
  },
  {
   "cell_type": "code",
   "execution_count": 26,
   "metadata": {},
   "outputs": [
    {
     "name": "stdout",
     "output_type": "stream",
     "text": "0.002311111111111111\n"
    }
   ],
   "source": [
    "forest = Forest()\n",
    "\n",
    "forest.grow_trees()\n",
    "\n",
    "print (forest.tree_fraction)"
   ]
  },
  {
   "cell_type": "markdown",
   "metadata": {},
   "source": [
    "测试子类："
   ]
  },
  {
   "cell_type": "code",
   "execution_count": 28,
   "metadata": {},
   "outputs": [],
   "source": [
    "burnable_forest = BurnableForest()"
   ]
  },
  {
   "cell_type": "markdown",
   "metadata": {},
   "source": [
    "调用自己和父类的方法："
   ]
  },
  {
   "cell_type": "code",
   "execution_count": 54,
   "metadata": {},
   "outputs": [
    {
     "name": "stdout",
     "output_type": "stream",
     "text": "0.0624\n"
    }
   ],
   "source": [
    "burnable_forest.grow_trees()\n",
    "burnable_forest.start_fires()\n",
    "burnable_forest.burn_trees()\n",
    "print (burnable_forest.tree_fraction)"
   ]
  },
  {
   "cell_type": "markdown",
   "metadata": {},
   "source": [
    "查看变化："
   ]
  },
  {
   "cell_type": "code",
   "execution_count": 56,
   "metadata": {},
   "outputs": [
    {
     "data": {
      "image/png": "[encoded data removed]",
      "image/svg+xml": "<?xml version=\"1.0\" encoding=\"utf-8\" standalone=\"no\"?>\r\n<!DOCTYPE svg PUBLIC \"-//W3C//DTD SVG 1.1//EN\"\r\n  \"http://www.w3.org/Graphics/SVG/1.1/DTD/svg11.dtd\">\r\n<!-- Created with matplotlib (https://matplotlib.org/) -->\r\n<svg height=\"248.518125pt\" version=\"1.1\" viewBox=\"0 0 372.103125 248.518125\" width=\"372.103125pt\" xmlns=\"http://www.w3.org/2000/svg\" xmlns:xlink=\"http://www.w3.org/1999/xlink\">\r\n <defs>\r\n  <style type=\"text/css\">\r\n*{stroke-linecap:butt;stroke-linejoin:round;}\r\n  </style>\r\n </defs>\r\n <g id=\"figure_1\">\r\n  <g id=\"patch_1\">\r\n   <path d=\"M 0 248.518125 \r\nL 372.103125 248.518125 \r\nL 372.103125 0 \r\nL 0 0 \r\nz\r\n\" style=\"fill:none;\"/>\r\n  </g>\r\n  <g id=\"axes_1\">\r\n   <g id=\"patch_2\">\r\n    <path d=\"M 30.103125 224.64 \r\nL 364.903125 224.64 \r\nL 364.903125 7.2 \r\nL 30.103125 7.2 \r\nz\r\n\" style=\"fill:#ffffff;\"/>\r\n   </g>\r\n   <g id=\"matplotlib.axis_1\">\r\n    <g id=\"xtick_1\">\r\n     <g id=\"line2d_1\">\r\n      <defs>\r\n       <path d=\"M 0 0 \r\nL 0 3.5 \r\n\" id=\"m567b07d222\" style=\"stroke:#000000;stroke-width:0.8;\"/>\r\n      </defs>\r\n      <g>\r\n       <use style=\"stroke:#000000;stroke-width:0.8;\" x=\"45.321307\" xlink:href=\"#m567b07d222\" y=\"224.64\"/>\r\n      </g>\r\n     </g>\r\n     <g id=\"text_1\">\r\n      <!-- 0 -->\r\n      <defs>\r\n       <path d=\"M 31.78125 66.40625 \r\nQ 24.171875 66.40625 20.328125 58.90625 \r\nQ 16.5 51.421875 16.5 36.375 \r\nQ 16.5 21.390625 20.328125 13.890625 \r\nQ 24.171875 6.390625 31.78125 6.390625 \r\nQ 39.453125 6.390625 43.28125 13.890625 \r\nQ 47.125 21.390625 47.125 36.375 \r\nQ 47.125 51.421875 43.28125 58.90625 \r\nQ 39.453125 66.40625 31.78125 66.40625 \r\nz\r\nM 31.78125 74.21875 \r\nQ 44.046875 74.21875 50.515625 64.515625 \r\nQ 56.984375 54.828125 56.984375 36.375 \r\nQ 56.984375 17.96875 50.515625 8.265625 \r\nQ 44.046875 -1.421875 31.78125 -1.421875 \r\nQ 19.53125 -1.421875 13.0625 8.265625 \r\nQ 6.59375 17.96875 6.59375 36.375 \r\nQ 6.59375 54.828125 13.0625 64.515625 \r\nQ 19.53125 74.21875 31.78125 74.21875 \r\nz\r\n\" id=\"DejaVuSans-48\"/>\r\n      </defs>\r\n      <g transform=\"translate(42.140057 239.238437)scale(0.1 -0.1)\">\r\n       <use xlink:href=\"#DejaVuSans-48\"/>\r\n      </g>\r\n     </g>\r\n    </g>\r\n    <g id=\"xtick_2\">\r\n     <g id=\"line2d_2\">\r\n      <g>\r\n       <use style=\"stroke:#000000;stroke-width:0.8;\" x=\"106.218393\" xlink:href=\"#m567b07d222\" y=\"224.64\"/>\r\n      </g>\r\n     </g>\r\n     <g id=\"text_2\">\r\n      <!-- 500 -->\r\n      <defs>\r\n       <path d=\"M 10.796875 72.90625 \r\nL 49.515625 72.90625 \r\nL 49.515625 64.59375 \r\nL 19.828125 64.59375 \r\nL 19.828125 46.734375 \r\nQ 21.96875 47.46875 24.109375 47.828125 \r\nQ 26.265625 48.1875 28.421875 48.1875 \r\nQ 40.625 48.1875 47.75 41.5 \r\nQ 54.890625 34.8125 54.890625 23.390625 \r\nQ 54.890625 11.625 47.5625 5.09375 \r\nQ 40.234375 -1.421875 26.90625 -1.421875 \r\nQ 22.3125 -1.421875 17.546875 -0.640625 \r\nQ 12.796875 0.140625 7.71875 1.703125 \r\nL 7.71875 11.625 \r\nQ 12.109375 9.234375 16.796875 8.0625 \r\nQ 21.484375 6.890625 26.703125 6.890625 \r\nQ 35.15625 6.890625 40.078125 11.328125 \r\nQ 45.015625 15.765625 45.015625 23.390625 \r\nQ 45.015625 31 40.078125 35.4375 \r\nQ 35.15625 39.890625 26.703125 39.890625 \r\nQ 22.75 39.890625 18.8125 39.015625 \r\nQ 14.890625 38.140625 10.796875 36.28125 \r\nz\r\n\" id=\"DejaVuSans-53\"/>\r\n      </defs>\r\n      <g transform=\"translate(96.674643 239.238437)scale(0.1 -0.1)\">\r\n       <use xlink:href=\"#DejaVuSans-53\"/>\r\n       <use x=\"63.623047\" xlink:href=\"#DejaVuSans-48\"/>\r\n       <use x=\"127.246094\" xlink:href=\"#DejaVuSans-48\"/>\r\n      </g>\r\n     </g>\r\n    </g>\r\n    <g id=\"xtick_3\">\r\n     <g id=\"line2d_3\">\r\n      <g>\r\n       <use style=\"stroke:#000000;stroke-width:0.8;\" x=\"167.115479\" xlink:href=\"#m567b07d222\" y=\"224.64\"/>\r\n      </g>\r\n     </g>\r\n     <g id=\"text_3\">\r\n      <!-- 1000 -->\r\n      <defs>\r\n       <path d=\"M 12.40625 8.296875 \r\nL 28.515625 8.296875 \r\nL 28.515625 63.921875 \r\nL 10.984375 60.40625 \r\nL 10.984375 69.390625 \r\nL 28.421875 72.90625 \r\nL 38.28125 72.90625 \r\nL 38.28125 8.296875 \r\nL 54.390625 8.296875 \r\nL 54.390625 0 \r\nL 12.40625 0 \r\nz\r\n\" id=\"DejaVuSans-49\"/>\r\n      </defs>\r\n      <g transform=\"translate(154.390479 239.238437)scale(0.1 -0.1)\">\r\n       <use xlink:href=\"#DejaVuSans-49\"/>\r\n       <use x=\"63.623047\" xlink:href=\"#DejaVuSans-48\"/>\r\n       <use x=\"127.246094\" xlink:href=\"#DejaVuSans-48\"/>\r\n       <use x=\"190.869141\" xlink:href=\"#DejaVuSans-48\"/>\r\n      </g>\r\n     </g>\r\n    </g>\r\n    <g id=\"xtick_4\">\r\n     <g id=\"line2d_4\">\r\n      <g>\r\n       <use style=\"stroke:#000000;stroke-width:0.8;\" x=\"228.012565\" xlink:href=\"#m567b07d222\" y=\"224.64\"/>\r\n      </g>\r\n     </g>\r\n     <g id=\"text_4\">\r\n      <!-- 1500 -->\r\n      <g transform=\"translate(215.287565 239.238437)scale(0.1 -0.1)\">\r\n       <use xlink:href=\"#DejaVuSans-49\"/>\r\n       <use x=\"63.623047\" xlink:href=\"#DejaVuSans-53\"/>\r\n       <use x=\"127.246094\" xlink:href=\"#DejaVuSans-48\"/>\r\n       <use x=\"190.869141\" xlink:href=\"#DejaVuSans-48\"/>\r\n      </g>\r\n     </g>\r\n    </g>\r\n    <g id=\"xtick_5\">\r\n     <g id=\"line2d_5\">\r\n      <g>\r\n       <use style=\"stroke:#000000;stroke-width:0.8;\" x=\"288.909651\" xlink:href=\"#m567b07d222\" y=\"224.64\"/>\r\n      </g>\r\n     </g>\r\n     <g id=\"text_5\">\r\n      <!-- 2000 -->\r\n      <defs>\r\n       <path d=\"M 19.1875 8.296875 \r\nL 53.609375 8.296875 \r\nL 53.609375 0 \r\nL 7.328125 0 \r\nL 7.328125 8.296875 \r\nQ 12.9375 14.109375 22.625 23.890625 \r\nQ 32.328125 33.6875 34.8125 36.53125 \r\nQ 39.546875 41.84375 41.421875 45.53125 \r\nQ 43.3125 49.21875 43.3125 52.78125 \r\nQ 43.3125 58.59375 39.234375 62.25 \r\nQ 35.15625 65.921875 28.609375 65.921875 \r\nQ 23.96875 65.921875 18.8125 64.3125 \r\nQ 13.671875 62.703125 7.8125 59.421875 \r\nL 7.8125 69.390625 \r\nQ 13.765625 71.78125 18.9375 73 \r\nQ 24.125 74.21875 28.421875 74.21875 \r\nQ 39.75 74.21875 46.484375 68.546875 \r\nQ 53.21875 62.890625 53.21875 53.421875 \r\nQ 53.21875 48.921875 51.53125 44.890625 \r\nQ 49.859375 40.875 45.40625 35.40625 \r\nQ 44.1875 33.984375 37.640625 27.21875 \r\nQ 31.109375 20.453125 19.1875 8.296875 \r\nz\r\n\" id=\"DejaVuSans-50\"/>\r\n      </defs>\r\n      <g transform=\"translate(276.184651 239.238437)scale(0.1 -0.1)\">\r\n       <use xlink:href=\"#DejaVuSans-50\"/>\r\n       <use x=\"63.623047\" xlink:href=\"#DejaVuSans-48\"/>\r\n       <use x=\"127.246094\" xlink:href=\"#DejaVuSans-48\"/>\r\n       <use x=\"190.869141\" xlink:href=\"#DejaVuSans-48\"/>\r\n      </g>\r\n     </g>\r\n    </g>\r\n    <g id=\"xtick_6\">\r\n     <g id=\"line2d_6\">\r\n      <g>\r\n       <use style=\"stroke:#000000;stroke-width:0.8;\" x=\"349.806737\" xlink:href=\"#m567b07d222\" y=\"224.64\"/>\r\n      </g>\r\n     </g>\r\n     <g id=\"text_6\">\r\n      <!-- 2500 -->\r\n      <g transform=\"translate(337.081737 239.238437)scale(0.1 -0.1)\">\r\n       <use xlink:href=\"#DejaVuSans-50\"/>\r\n       <use x=\"63.623047\" xlink:href=\"#DejaVuSans-53\"/>\r\n       <use x=\"127.246094\" xlink:href=\"#DejaVuSans-48\"/>\r\n       <use x=\"190.869141\" xlink:href=\"#DejaVuSans-48\"/>\r\n      </g>\r\n     </g>\r\n    </g>\r\n   </g>\r\n   <g id=\"matplotlib.axis_2\">\r\n    <g id=\"ytick_1\">\r\n     <g id=\"line2d_7\">\r\n      <defs>\r\n       <path d=\"M 0 0 \r\nL -3.5 0 \r\n\" id=\"mc74a0b72ca\" style=\"stroke:#000000;stroke-width:0.8;\"/>\r\n      </defs>\r\n      <g>\r\n       <use style=\"stroke:#000000;stroke-width:0.8;\" x=\"30.103125\" xlink:href=\"#mc74a0b72ca\" y=\"215.215083\"/>\r\n      </g>\r\n     </g>\r\n     <g id=\"text_7\">\r\n      <!-- 0.0 -->\r\n      <defs>\r\n       <path d=\"M 10.6875 12.40625 \r\nL 21 12.40625 \r\nL 21 0 \r\nL 10.6875 0 \r\nz\r\n\" id=\"DejaVuSans-46\"/>\r\n      </defs>\r\n      <g transform=\"translate(7.2 219.014302)scale(0.1 -0.1)\">\r\n       <use xlink:href=\"#DejaVuSans-48\"/>\r\n       <use x=\"63.623047\" xlink:href=\"#DejaVuSans-46\"/>\r\n       <use x=\"95.410156\" xlink:href=\"#DejaVuSans-48\"/>\r\n      </g>\r\n     </g>\r\n    </g>\r\n    <g id=\"ytick_2\">\r\n     <g id=\"line2d_8\">\r\n      <g>\r\n       <use style=\"stroke:#000000;stroke-width:0.8;\" x=\"30.103125\" xlink:href=\"#mc74a0b72ca\" y=\"175.518221\"/>\r\n      </g>\r\n     </g>\r\n     <g id=\"text_8\">\r\n      <!-- 0.2 -->\r\n      <g transform=\"translate(7.2 179.31744)scale(0.1 -0.1)\">\r\n       <use xlink:href=\"#DejaVuSans-48\"/>\r\n       <use x=\"63.623047\" xlink:href=\"#DejaVuSans-46\"/>\r\n       <use x=\"95.410156\" xlink:href=\"#DejaVuSans-50\"/>\r\n      </g>\r\n     </g>\r\n    </g>\r\n    <g id=\"ytick_3\">\r\n     <g id=\"line2d_9\">\r\n      <g>\r\n       <use style=\"stroke:#000000;stroke-width:0.8;\" x=\"30.103125\" xlink:href=\"#mc74a0b72ca\" y=\"135.82136\"/>\r\n      </g>\r\n     </g>\r\n     <g id=\"text_9\">\r\n      <!-- 0.4 -->\r\n      <defs>\r\n       <path d=\"M 37.796875 64.3125 \r\nL 12.890625 25.390625 \r\nL 37.796875 25.390625 \r\nz\r\nM 35.203125 72.90625 \r\nL 47.609375 72.90625 \r\nL 47.609375 25.390625 \r\nL 58.015625 25.390625 \r\nL 58.015625 17.1875 \r\nL 47.609375 17.1875 \r\nL 47.609375 0 \r\nL 37.796875 0 \r\nL 37.796875 17.1875 \r\nL 4.890625 17.1875 \r\nL 4.890625 26.703125 \r\nz\r\n\" id=\"DejaVuSans-52\"/>\r\n      </defs>\r\n      <g transform=\"translate(7.2 139.620579)scale(0.1 -0.1)\">\r\n       <use xlink:href=\"#DejaVuSans-48\"/>\r\n       <use x=\"63.623047\" xlink:href=\"#DejaVuSans-46\"/>\r\n       <use x=\"95.410156\" xlink:href=\"#DejaVuSans-52\"/>\r\n      </g>\r\n     </g>\r\n    </g>\r\n    <g id=\"ytick_4\">\r\n     <g id=\"line2d_10\">\r\n      <g>\r\n       <use style=\"stroke:#000000;stroke-width:0.8;\" x=\"30.103125\" xlink:href=\"#mc74a0b72ca\" y=\"96.124498\"/>\r\n      </g>\r\n     </g>\r\n     <g id=\"text_10\">\r\n      <!-- 0.6 -->\r\n      <defs>\r\n       <path d=\"M 33.015625 40.375 \r\nQ 26.375 40.375 22.484375 35.828125 \r\nQ 18.609375 31.296875 18.609375 23.390625 \r\nQ 18.609375 15.53125 22.484375 10.953125 \r\nQ 26.375 6.390625 33.015625 6.390625 \r\nQ 39.65625 6.390625 43.53125 10.953125 \r\nQ 47.40625 15.53125 47.40625 23.390625 \r\nQ 47.40625 31.296875 43.53125 35.828125 \r\nQ 39.65625 40.375 33.015625 40.375 \r\nz\r\nM 52.59375 71.296875 \r\nL 52.59375 62.3125 \r\nQ 48.875 64.0625 45.09375 64.984375 \r\nQ 41.3125 65.921875 37.59375 65.921875 \r\nQ 27.828125 65.921875 22.671875 59.328125 \r\nQ 17.53125 52.734375 16.796875 39.40625 \r\nQ 19.671875 43.65625 24.015625 45.921875 \r\nQ 28.375 48.1875 33.59375 48.1875 \r\nQ 44.578125 48.1875 50.953125 41.515625 \r\nQ 57.328125 34.859375 57.328125 23.390625 \r\nQ 57.328125 12.15625 50.6875 5.359375 \r\nQ 44.046875 -1.421875 33.015625 -1.421875 \r\nQ 20.359375 -1.421875 13.671875 8.265625 \r\nQ 6.984375 17.96875 6.984375 36.375 \r\nQ 6.984375 53.65625 15.1875 63.9375 \r\nQ 23.390625 74.21875 37.203125 74.21875 \r\nQ 40.921875 74.21875 44.703125 73.484375 \r\nQ 48.484375 72.75 52.59375 71.296875 \r\nz\r\n\" id=\"DejaVuSans-54\"/>\r\n      </defs>\r\n      <g transform=\"translate(7.2 99.923717)scale(0.1 -0.1)\">\r\n       <use xlink:href=\"#DejaVuSans-48\"/>\r\n       <use x=\"63.623047\" xlink:href=\"#DejaVuSans-46\"/>\r\n       <use x=\"95.410156\" xlink:href=\"#DejaVuSans-54\"/>\r\n      </g>\r\n     </g>\r\n    </g>\r\n    <g id=\"ytick_5\">\r\n     <g id=\"line2d_11\">\r\n      <g>\r\n       <use style=\"stroke:#000000;stroke-width:0.8;\" x=\"30.103125\" xlink:href=\"#mc74a0b72ca\" y=\"56.427637\"/>\r\n      </g>\r\n     </g>\r\n     <g id=\"text_11\">\r\n      <!-- 0.8 -->\r\n      <defs>\r\n       <path d=\"M 31.78125 34.625 \r\nQ 24.75 34.625 20.71875 30.859375 \r\nQ 16.703125 27.09375 16.703125 20.515625 \r\nQ 16.703125 13.921875 20.71875 10.15625 \r\nQ 24.75 6.390625 31.78125 6.390625 \r\nQ 38.8125 6.390625 42.859375 10.171875 \r\nQ 46.921875 13.96875 46.921875 20.515625 \r\nQ 46.921875 27.09375 42.890625 30.859375 \r\nQ 38.875 34.625 31.78125 34.625 \r\nz\r\nM 21.921875 38.8125 \r\nQ 15.578125 40.375 12.03125 44.71875 \r\nQ 8.5 49.078125 8.5 55.328125 \r\nQ 8.5 64.0625 14.71875 69.140625 \r\nQ 20.953125 74.21875 31.78125 74.21875 \r\nQ 42.671875 74.21875 48.875 69.140625 \r\nQ 55.078125 64.0625 55.078125 55.328125 \r\nQ 55.078125 49.078125 51.53125 44.71875 \r\nQ 48 40.375 41.703125 38.8125 \r\nQ 48.828125 37.15625 52.796875 32.3125 \r\nQ 56.78125 27.484375 56.78125 20.515625 \r\nQ 56.78125 9.90625 50.3125 4.234375 \r\nQ 43.84375 -1.421875 31.78125 -1.421875 \r\nQ 19.734375 -1.421875 13.25 4.234375 \r\nQ 6.78125 9.90625 6.78125 20.515625 \r\nQ 6.78125 27.484375 10.78125 32.3125 \r\nQ 14.796875 37.15625 21.921875 38.8125 \r\nz\r\nM 18.3125 54.390625 \r\nQ 18.3125 48.734375 21.84375 45.5625 \r\nQ 25.390625 42.390625 31.78125 42.390625 \r\nQ 38.140625 42.390625 41.71875 45.5625 \r\nQ 45.3125 48.734375 45.3125 54.390625 \r\nQ 45.3125 60.0625 41.71875 63.234375 \r\nQ 38.140625 66.40625 31.78125 66.40625 \r\nQ 25.390625 66.40625 21.84375 63.234375 \r\nQ 18.3125 60.0625 18.3125 54.390625 \r\nz\r\n\" id=\"DejaVuSans-56\"/>\r\n      </defs>\r\n      <g transform=\"translate(7.2 60.226856)scale(0.1 -0.1)\">\r\n       <use xlink:href=\"#DejaVuSans-48\"/>\r\n       <use x=\"63.623047\" xlink:href=\"#DejaVuSans-46\"/>\r\n       <use x=\"95.410156\" xlink:href=\"#DejaVuSans-56\"/>\r\n      </g>\r\n     </g>\r\n    </g>\r\n    <g id=\"ytick_6\">\r\n     <g id=\"line2d_12\">\r\n      <g>\r\n       <use style=\"stroke:#000000;stroke-width:0.8;\" x=\"30.103125\" xlink:href=\"#mc74a0b72ca\" y=\"16.730775\"/>\r\n      </g>\r\n     </g>\r\n     <g id=\"text_12\">\r\n      <!-- 1.0 -->\r\n      <g transform=\"translate(7.2 20.529994)scale(0.1 -0.1)\">\r\n       <use xlink:href=\"#DejaVuSans-49\"/>\r\n       <use x=\"63.623047\" xlink:href=\"#DejaVuSans-46\"/>\r\n       <use x=\"95.410156\" xlink:href=\"#DejaVuSans-48\"/>\r\n      </g>\r\n     </g>\r\n    </g>\r\n   </g>\r\n   <g id=\"line2d_13\">\r\n    <path clip-path=\"url(#pf90a51a856)\" d=\"M 45.321307 214.756364 \r\nL 48.122573 204.135248 \r\nL 48.609749 202.432694 \r\nL 49.21872 200.068525 \r\nL 50.193074 196.645773 \r\nL 50.802045 194.263962 \r\nL 51.167427 192.905447 \r\nL 51.776398 190.61185 \r\nL 52.628957 187.559603 \r\nL 53.359722 184.772001 \r\nL 54.334076 181.163997 \r\nL 54.943046 179.187976 \r\nL 55.430223 177.326634 \r\nL 56.039194 175.368255 \r\nL 57.500724 170.489952 \r\nL 58.475077 167.358311 \r\nL 58.962254 165.779258 \r\nL 59.693019 163.573877 \r\nL 60.910961 160.380485 \r\nL 65.417345 147.589274 \r\nL 65.660934 147.086447 \r\nL 66.513493 144.7311 \r\nL 68.827582 138.785392 \r\nL 69.436553 137.135767 \r\nL 72.603201 129.62865 \r\nL 73.090378 128.508316 \r\nL 73.455761 127.687914 \r\nL 74.917291 124.353378 \r\nL 78.814704 116.14936 \r\nL 80.763411 112.303175 \r\nL 81.006999 111.923849 \r\nL 81.372382 111.182841 \r\nL 83.686471 107.054368 \r\nL 84.051854 106.322181 \r\nL 84.53903 105.387099 \r\nL 86.00056 102.978823 \r\nL 91.23771 94.086726 \r\nL 92.090269 92.851713 \r\nL 93.186416 91.0433 \r\nL 94.526152 89.19078 \r\nL 95.135123 88.176305 \r\nL 98.301772 83.668505 \r\nL 98.667154 83.148035 \r\nL 98.910743 82.865747 \r\nL 100.372273 80.898547 \r\nL 101.103038 80.007573 \r\nL 101.46842 79.478281 \r\nL 101.833803 78.984276 \r\nL 102.92995 77.802191 \r\nL 105.974805 74.167723 \r\nL 106.340187 73.717825 \r\nL 108.654276 71.194869 \r\nL 109.019659 70.868473 \r\nL 109.994012 69.69521 \r\nL 110.481189 69.104168 \r\nL 111.820925 67.807404 \r\nL 113.647837 65.849025 \r\nL 114.500397 64.781621 \r\nL 115.109367 64.120006 \r\nL 115.596544 63.731859 \r\nL 124.731107 55.933631 \r\nL 125.583666 55.192623 \r\nL 126.436226 54.539831 \r\nL 126.801608 54.178148 \r\nL 127.166991 53.922324 \r\nL 127.532373 53.640035 \r\nL 127.897756 53.313639 \r\nL 128.506726 52.74024 \r\nL 128.993903 52.413843 \r\nL 131.673375 50.570144 \r\nL 132.038757 50.287856 \r\nL 132.40414 50.014388 \r\nL 133.378493 49.27338 \r\nL 134.231053 48.726446 \r\nL 135.205406 48.108939 \r\nL 135.448994 48.003081 \r\nL 135.814377 47.747256 \r\nL 136.301553 47.509075 \r\nL 136.910524 47.076821 \r\nL 137.641289 46.679852 \r\nL 145.436116 42.26909 \r\nL 146.654058 41.828013 \r\nL 147.750206 41.069362 \r\nL 153.839914 38.343511 \r\nL 154.570679 37.831863 \r\nL 156.884769 36.764458 \r\nL 157.493739 36.570385 \r\nL 158.589887 36.13813 \r\nL 161.02577 35.000153 \r\nL 161.512947 34.823723 \r\nL 162.000124 34.638471 \r\nL 162.852683 34.34736 \r\nL 164.070625 33.994499 \r\nL 164.557801 33.862176 \r\nL 171.012893 31.603866 \r\nL 171.500069 31.524472 \r\nL 172.10904 31.321577 \r\nL 172.596217 31.16279 \r\nL 174.910306 30.439425 \r\nL 175.519277 30.333567 \r\nL 177.102601 29.901312 \r\nL 177.467984 29.795454 \r\nL 177.95516 29.680774 \r\nL 178.929514 29.363199 \r\nL 182.948721 28.392831 \r\nL 183.801281 28.198758 \r\nL 188.185871 27.043138 \r\nL 188.916636 26.857886 \r\nL 189.403813 26.70792 \r\nL 194.88455 25.622872 \r\nL 198.538375 24.996544 \r\nL 199.26914 24.793649 \r\nL 199.999906 24.643683 \r\nL 201.58323 24.39668 \r\nL 203.288348 24.167321 \r\nL 209.743439 23.338097 \r\nL 211.448558 23.108738 \r\nL 212.422911 22.985236 \r\nL 213.397264 22.879378 \r\nL 215.467765 22.623554 \r\nL 218.025443 22.358908 \r\nL 218.999796 22.261871 \r\nL 219.97415 22.156013 \r\nL 221.313886 22.058976 \r\nL 223.140798 21.900189 \r\nL 228.012565 21.44147 \r\nL 230.692037 21.159181 \r\nL 232.031773 21.053323 \r\nL 236.050981 20.656354 \r\nL 237.025334 20.532853 \r\nL 238.36507 20.435816 \r\nL 239.948394 20.303493 \r\nL 241.044542 20.197635 \r\nL 252.858576 19.447805 \r\nL 254.076518 19.341947 \r\nL 258.826491 19.103766 \r\nL 261.14058 18.997907 \r\nL 265.159788 18.812655 \r\nL 266.743112 18.72444 \r\nL 267.473877 18.662689 \r\nL 270.031555 18.556831 \r\nL 272.22385 18.503902 \r\nL 273.807174 18.398044 \r\nL 274.781527 18.362757 \r\nL 278.800735 18.256899 \r\nL 281.114824 18.195148 \r\nL 284.281473 18.08929 \r\nL 286.351974 18.045183 \r\nL 290.980152 17.939324 \r\nL 293.53783 17.859931 \r\nL 301.819834 17.754072 \r\nL 303.646746 17.727608 \r\nL 307.665954 17.621749 \r\nL 310.345426 17.533534 \r\nL 317.165899 17.427676 \r\nL 319.114606 17.39239 \r\nL 330.685052 17.286531 \r\nL 332.390171 17.268888 \r\nL 345.056765 17.16303 \r\nL 345.909324 17.145387 \r\nL 349.684943 17.083636 \r\nL 349.684943 17.083636 \r\n\" style=\"fill:none;stroke:#1f77b4;stroke-linecap:square;stroke-width:1.5;\"/>\r\n   </g>\r\n   <g id=\"line2d_14\">\r\n    <path clip-path=\"url(#pf90a51a856)\" d=\"M 45.321307 214.756364 \r\nL 46.29566 210.795499 \r\nL 47.635396 205.458477 \r\nL 49.584103 197.995467 \r\nL 51.654604 190.250168 \r\nL 52.263575 188.141823 \r\nL 54.090487 181.534501 \r\nL 55.186635 178.22643 \r\nL 56.160988 174.786035 \r\nL 57.37893 170.657561 \r\nL 58.596872 166.661411 \r\nL 59.084048 165.020607 \r\nL 65.051963 147.633382 \r\nL 69.558347 136.430045 \r\nL 69.92373 135.609643 \r\nL 70.776289 133.501299 \r\nL 72.603201 129.531613 \r\nL 73.212172 128.64946 \r\nL 74.186526 126.964549 \r\nL 75.404467 124.07991 \r\nL 76.013438 122.800789 \r\nL 76.744203 121.239379 \r\nL 78.083939 119.016355 \r\nL 78.69291 118.063631 \r\nL 80.032646 116.264039 \r\nL 80.519823 115.964108 \r\nL 81.006999 115.381887 \r\nL 81.128793 115.346601 \r\nL 81.494176 114.773202 \r\nL 82.712118 113.794013 \r\nL 82.955706 113.749905 \r\nL 83.321089 113.485259 \r\nL 83.442883 113.494081 \r\nL 84.295442 112.400212 \r\nL 85.756972 111.544524 \r\nL 86.00056 111.359272 \r\nL 86.609531 110.953482 \r\nL 87.827473 109.49793 \r\nL 88.92362 108.889245 \r\nL 89.532591 109.233284 \r\nL 90.750533 111.332807 \r\nL 91.481298 112.656036 \r\nL 92.090269 113.644047 \r\nL 92.69924 115.708283 \r\nL 94.526152 122.430285 \r\nL 94.891535 124.088732 \r\nL 95.6223 127.54677 \r\nL 96.231271 131.348847 \r\nL 99.276125 152.555792 \r\nL 100.128684 158.025138 \r\nL 100.737655 159.983516 \r\nL 100.981244 160.539272 \r\nL 101.712009 162.965192 \r\nL 102.320979 164.429565 \r\nL 103.051744 165.32936 \r\nL 103.417127 165.514612 \r\nL 103.904304 165.029428 \r\nL 104.269686 164.508958 \r\nL 105.000451 163.970845 \r\nL 105.122245 163.917916 \r\nL 105.609422 164.500137 \r\nL 105.974805 165.285253 \r\nL 106.461981 166.3703 \r\nL 107.070952 166.89077 \r\nL 107.192746 166.846663 \r\nL 107.558129 166.493802 \r\nL 107.679923 166.379122 \r\nL 107.923511 166.070368 \r\nL 108.288894 165.646935 \r\nL 108.897865 164.579531 \r\nL 109.263247 163.794415 \r\nL 112.064513 157.28413 \r\nL 115.109367 148.744894 \r\nL 115.596544 147.527523 \r\nL 116.327309 145.463286 \r\nL 117.301663 143.240262 \r\nL 121.077282 134.515774 \r\nL 121.564459 133.360154 \r\nL 122.173429 131.904603 \r\nL 122.538812 131.07538 \r\nL 122.7824 130.475516 \r\nL 123.513165 128.464208 \r\nL 124.000342 127.335053 \r\nL 126.436226 121.733385 \r\nL 126.801608 121.018841 \r\nL 127.288785 120.013187 \r\nL 127.897756 118.795817 \r\nL 128.872109 116.643365 \r\nL 131.064404 112.903039 \r\nL 131.795169 111.941492 \r\nL 132.769522 110.759408 \r\nL 133.013111 110.7153 \r\nL 133.256699 110.803516 \r\nL 134.352847 110.909374 \r\nL 134.961818 111.05934 \r\nL 135.083612 110.94466 \r\nL 135.814377 111.112269 \r\nL 136.057965 111.094626 \r\nL 136.301553 111.156377 \r\nL 136.666936 111.182841 \r\nL 136.910524 111.288699 \r\nL 137.519495 111.888563 \r\nL 137.763084 111.950314 \r\nL 138.128466 112.303175 \r\nL 140.320761 114.482091 \r\nL 140.686144 115.126063 \r\nL 141.051526 115.558317 \r\nL 141.295115 115.778856 \r\nL 142.147674 116.431648 \r\nL 142.63485 117.163835 \r\nL 143.000233 117.701948 \r\nL 143.243821 117.781342 \r\nL 143.730998 118.284169 \r\nL 144.461763 118.92814 \r\nL 144.705351 119.245715 \r\nL 145.314322 120.701266 \r\nL 145.801499 121.865708 \r\nL 146.045087 122.22739 \r\nL 146.41047 122.642002 \r\nL 146.654058 122.809611 \r\nL 147.263029 123.524154 \r\nL 148.359177 125.217887 \r\nL 148.968147 126.602867 \r\nL 149.942501 129.117001 \r\nL 150.307883 130.246156 \r\nL 150.916854 132.230999 \r\nL 151.891208 137.109303 \r\nL 153.109149 145.295678 \r\nL 154.692473 157.601705 \r\nL 155.423238 161.62432 \r\nL 156.397592 165.770437 \r\nL 156.884769 167.270096 \r\nL 157.493739 169.66955 \r\nL 157.980916 170.675204 \r\nL 158.346299 171.089816 \r\nL 158.589887 171.23096 \r\nL 159.077064 170.816349 \r\nL 159.442446 170.119448 \r\nL 159.929623 169.528406 \r\nL 160.051417 169.466655 \r\nL 161.512947 166.043904 \r\nL 162.609095 163.053407 \r\nL 163.948831 159.304259 \r\nL 164.923184 157.178271 \r\nL 170.160333 142.99326 \r\nL 170.525716 142.216965 \r\nL 172.596217 136.827014 \r\nL 173.692364 134.37463 \r\nL 176.737219 126.946906 \r\nL 179.782073 120.101403 \r\nL 180.147455 119.413324 \r\nL 181.121809 117.357909 \r\nL 181.73078 116.255218 \r\nL 182.096162 115.734748 \r\nL 186.11537 107.513087 \r\nL 186.724341 106.60447 \r\nL 186.967929 106.136929 \r\nL 187.211517 105.766425 \r\nL 188.673048 103.208183 \r\nL 189.282018 102.996466 \r\nL 189.890989 103.569865 \r\nL 190.256372 104.213837 \r\nL 190.621754 104.8137 \r\nL 190.865343 105.016595 \r\nL 191.474313 106.145751 \r\nL 192.692255 108.068843 \r\nL 192.935844 108.351132 \r\nL 193.179432 108.827494 \r\nL 193.544814 109.418536 \r\nL 193.788403 109.797862 \r\nL 194.762756 112.073815 \r\nL 195.73711 116.193467 \r\nL 196.467875 119.545647 \r\nL 197.076845 122.950755 \r\nL 198.294787 129.6904 \r\nL 198.903758 132.575039 \r\nL 200.365288 142.569826 \r\nL 201.461436 150.500377 \r\nL 204.50629 166.749626 \r\nL 204.871672 167.843495 \r\nL 205.115261 168.496288 \r\nL 205.96782 171.301533 \r\nL 206.333202 171.513249 \r\nL 206.698585 171.813181 \r\nL 206.942173 171.883753 \r\nL 207.794733 171.698501 \r\nL 208.160115 171.786716 \r\nL 208.89088 171.204496 \r\nL 209.499851 170.516417 \r\nL 209.743439 170.295879 \r\nL 210.108822 169.704837 \r\nL 210.595999 168.955007 \r\nL 211.326764 167.164237 \r\nL 211.570352 166.784912 \r\nL 214.12803 160.248162 \r\nL 215.345971 157.187093 \r\nL 218.025443 149.697618 \r\nL 218.878002 147.201127 \r\nL 221.313886 140.920201 \r\nL 221.801062 139.852797 \r\nL 222.89721 137.409234 \r\nL 223.384387 136.394759 \r\nL 224.35874 134.101163 \r\nL 225.942064 130.643125 \r\nL 226.307447 129.893295 \r\nL 228.012565 125.826572 \r\nL 228.621536 124.397485 \r\nL 229.352301 122.86254 \r\nL 230.692037 119.792649 \r\nL 232.640744 115.814142 \r\nL 234.224068 112.938325 \r\nL 235.44201 111.041697 \r\nL 235.807392 110.318332 \r\nL 236.172775 109.656717 \r\nL 240.922747 103.322863 \r\nL 243.845808 98.197557 \r\nL 244.21119 97.712373 \r\nL 245.307338 96.433252 \r\nL 246.281691 96.186249 \r\nL 246.525279 96.283286 \r\nL 246.890662 97.17426 \r\nL 248.352192 101.143946 \r\nL 248.961163 103.790403 \r\nL 250.05731 110.794694 \r\nL 251.762429 124.688596 \r\nL 253.467547 139.332327 \r\nL 255.29446 151.259028 \r\nL 255.659842 153.482053 \r\nL 258.095726 168.319857 \r\nL 258.704697 170.745777 \r\nL 259.191873 172.404223 \r\nL 259.800844 173.365769 \r\nL 260.044432 173.577486 \r\nL 260.531609 173.568664 \r\nL 261.018786 173.118767 \r\nL 261.749551 172.483617 \r\nL 261.993139 172.166042 \r\nL 262.114933 172.227793 \r\nL 262.480316 171.663215 \r\nL 264.185434 167.455348 \r\nL 264.550817 166.520266 \r\nL 265.646964 163.953202 \r\nL 266.377729 162.003645 \r\nL 267.717465 158.536786 \r\nL 268.326436 156.587229 \r\nL 269.787966 152.626365 \r\nL 271.858467 146.751229 \r\nL 273.076409 143.681338 \r\nL 273.563586 142.463968 \r\nL 277.826382 131.913424 \r\nL 278.191764 131.066558 \r\nL 279.044323 129.05525 \r\nL 280.262265 127.405625 \r\nL 280.99303 126.858691 \r\nL 281.480207 126.382328 \r\nL 281.967383 126.223541 \r\nL 282.576354 126.214719 \r\nL 283.185325 125.756 \r\nL 283.550708 125.341388 \r\nL 283.672502 125.314924 \r\nL 284.159679 124.776811 \r\nL 284.403267 124.573916 \r\nL 285.499414 123.462404 \r\nL 286.108385 123.056614 \r\nL 286.473768 122.827254 \r\nL 287.69171 122.209747 \r\nL 287.935298 122.236212 \r\nL 288.30068 122.147996 \r\nL 288.787857 121.627527 \r\nL 289.15324 121.424631 \r\nL 289.396828 121.080592 \r\nL 289.76221 121.018841 \r\nL 290.005799 120.745374 \r\nL 290.249387 120.66598 \r\nL 291.101946 119.977901 \r\nL 291.589123 119.713256 \r\nL 291.954506 119.272179 \r\nL 292.441682 119.281001 \r\nL 292.807065 119.183964 \r\nL 293.294241 119.475074 \r\nL 293.659624 119.801471 \r\nL 294.025006 120.216083 \r\nL 294.99936 121.918637 \r\nL 295.851919 124.273984 \r\nL 296.46089 126.073575 \r\nL 297.800626 131.101844 \r\nL 298.896773 135.971326 \r\nL 300.114715 139.482293 \r\nL 300.723686 140.249765 \r\nL 300.84548 140.50559 \r\nL 300.967274 140.45266 \r\nL 301.576245 140.779057 \r\nL 301.819834 140.7967 \r\nL 302.063422 140.964309 \r\nL 302.550599 141.176025 \r\nL 302.794187 141.370099 \r\nL 303.524952 141.846461 \r\nL 303.890334 142.093464 \r\nL 304.255717 142.234608 \r\nL 304.742894 142.561005 \r\nL 305.108276 142.887401 \r\nL 305.351864 143.293191 \r\nL 305.595453 143.451979 \r\nL 306.6916 146.221938 \r\nL 307.056983 147.298164 \r\nL 307.54416 148.700786 \r\nL 308.518513 150.606235 \r\nL 310.345426 152.723401 \r\nL 310.832602 153.711412 \r\nL 311.197985 154.090738 \r\nL 311.441573 154.39067 \r\nL 312.537721 154.875853 \r\nL 312.781309 154.955247 \r\nL 313.024897 155.016998 \r\nL 313.633868 155.387502 \r\nL 314.486427 154.575922 \r\nL 315.095398 153.879021 \r\nL 315.704369 152.644008 \r\nL 318.262047 146.98941 \r\nL 318.627429 146.318974 \r\nL 319.2364 145.066318 \r\nL 320.210754 143.081475 \r\nL 322.037666 138.758928 \r\nL 323.133814 136.041898 \r\nL 323.742785 134.418737 \r\nL 324.351755 132.9279 \r\nL 324.595344 132.433894 \r\nL 325.326109 131.128309 \r\nL 331.415817 120.427799 \r\nL 331.7812 119.545647 \r\nL 332.024788 119.166321 \r\nL 332.390171 118.548814 \r\nL 332.633759 118.248883 \r\nL 334.947848 113.476438 \r\nL 335.922202 111.9856 \r\nL 337.261938 110.821159 \r\nL 337.62732 110.406547 \r\nL 338.114497 109.921363 \r\nL 338.358085 109.912542 \r\nL 339.210644 110.24776 \r\nL 339.454233 110.177187 \r\nL 339.819615 110.080151 \r\nL 340.428586 110.512405 \r\nL 340.793969 111.165198 \r\nL 342.377293 115.646533 \r\nL 343.351646 119.783828 \r\nL 344.326 123.550619 \r\nL 346.031118 130.951878 \r\nL 346.883677 132.777934 \r\nL 347.614442 133.748302 \r\nL 349.075972 134.136449 \r\nL 349.684943 134.762777 \r\nL 349.684943 134.762777 \r\n\" style=\"fill:none;stroke:#ff7f0e;stroke-linecap:square;stroke-width:1.5;\"/>\r\n   </g>\r\n   <g id=\"patch_3\">\r\n    <path d=\"M 30.103125 224.64 \r\nL 30.103125 7.2 \r\n\" style=\"fill:none;stroke:#000000;stroke-linecap:square;stroke-linejoin:miter;stroke-width:0.8;\"/>\r\n   </g>\r\n   <g id=\"patch_4\">\r\n    <path d=\"M 364.903125 224.64 \r\nL 364.903125 7.2 \r\n\" style=\"fill:none;stroke:#000000;stroke-linecap:square;stroke-linejoin:miter;stroke-width:0.8;\"/>\r\n   </g>\r\n   <g id=\"patch_5\">\r\n    <path d=\"M 30.103125 224.64 \r\nL 364.903125 224.64 \r\n\" style=\"fill:none;stroke:#000000;stroke-linecap:square;stroke-linejoin:miter;stroke-width:0.8;\"/>\r\n   </g>\r\n   <g id=\"patch_6\">\r\n    <path d=\"M 30.103125 7.2 \r\nL 364.903125 7.2 \r\n\" style=\"fill:none;stroke:#000000;stroke-linecap:square;stroke-linejoin:miter;stroke-width:0.8;\"/>\r\n   </g>\r\n  </g>\r\n </g>\r\n <defs>\r\n  <clipPath id=\"pf90a51a856\">\r\n   <rect height=\"217.44\" width=\"334.8\" x=\"30.103125\" y=\"7.2\"/>\r\n  </clipPath>\r\n </defs>\r\n</svg>\r\n",
      "text/plain": "<Figure size 432x288 with 1 Axes>"
     },
     "metadata": {
      "needs_background": "light"
     },
     "output_type": "display_data"
    }
   ],
   "source": [
    "import matplotlib.pyplot as plt\n",
    "\n",
    "%matplotlib inline\n",
    "\n",
    "forest = Forest()\n",
    "forest2 = BurnableForest()\n",
    "\n",
    "tree_fractions = []\n",
    "\n",
    "for i in range(2500):\n",
    "    forest.advance_one_step()\n",
    "    forest2.advance_one_step()\n",
    "    tree_fractions.append((forest.tree_fraction, forest2.tree_fraction))\n",
    "\n",
    "plt.plot(tree_fractions)\n",
    "\n",
    "plt.show()"
   ]
  },
  {
   "cell_type": "markdown",
   "metadata": {},
   "source": [
    "`__str__` 和 `__repr__` 中 `self.__class__` 会根据类型不同而不同："
   ]
  },
  {
   "cell_type": "code",
   "execution_count": 58,
   "metadata": {},
   "outputs": [
    {
     "data": {
      "text/plain": "Forest(size=(150, 150))"
     },
     "execution_count": 58,
     "metadata": {},
     "output_type": "execute_result"
    }
   ],
   "source": [
    "forest"
   ]
  },
  {
   "cell_type": "code",
   "execution_count": 10,
   "metadata": {},
   "outputs": [
    {
     "data": {
      "text/plain": [
       "BurnableForest(size=(150, 150))"
      ]
     },
     "execution_count": 10,
     "metadata": {},
     "output_type": "execute_result"
    }
   ],
   "source": [
    "forest2"
   ]
  },
  {
   "cell_type": "code",
   "execution_count": 60,
   "metadata": {},
   "outputs": [
    {
     "name": "stdout",
     "output_type": "stream",
     "text": "Forest\n"
    }
   ],
   "source": [
    "print (forest)"
   ]
  },
  {
   "cell_type": "code",
   "execution_count": 61,
   "metadata": {},
   "outputs": [
    {
     "ename": "SyntaxError",
     "evalue": "invalid character in identifier (<ipython-input-61-74dcc02cf845>, line 1)",
     "output_type": "error",
     "traceback": [
      "\u001b[1;36m  File \u001b[1;32m\"<ipython-input-61-74dcc02cf845>\"\u001b[1;36m, line \u001b[1;32m1\u001b[0m\n\u001b[1;33m    print (forest2）\u001b[0m\n\u001b[1;37m                  ^\u001b[0m\n\u001b[1;31mSyntaxError\u001b[0m\u001b[1;31m:\u001b[0m invalid character in identifier\n"
     ]
    }
   ],
   "source": [
    "print (forest2）"
   ]
  },
  {
   "cell_type": "code",
   "execution_count": null,
   "metadata": {},
   "outputs": [],
   "source": []
  }
 ],
 "metadata": {
  "kernelspec": {
   "display_name": "Python 3",
   "language": "python",
   "name": "python3"
  },
  "language_info": {
   "codemirror_mode": {
    "name": "ipython",
    "version": 3
   },
   "file_extension": ".py",
   "mimetype": "text/x-python",
   "name": "python",
   "nbconvert_exporter": "python",
   "pygments_lexer": "ipython3",
   "version": "3.7.4"
  }
 },
 "nbformat": 4,
 "nbformat_minor": 1
}